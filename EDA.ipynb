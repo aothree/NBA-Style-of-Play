{
 "cells": [
  {
   "cell_type": "code",
   "execution_count": null,
   "id": "b90bfa4f-a876-4bd3-98cd-0f85f8ed4ccc",
   "metadata": {},
   "outputs": [],
   "source": [
    "import pandas as pd\n",
    "import numpy as np\n",
    "import requests\n",
    "import time\n",
    "import matplotlib.pyplot as plt\n",
    "import seaborn as sns\n",
    "pd.options.display.max_columns = 999"
   ]
  },
  {
   "cell_type": "code",
   "execution_count": null,
   "id": "5cd51e59-b770-4a5a-a116-817615e907ec",
   "metadata": {},
   "outputs": [],
   "source": [
    "years = [2013, 2014, 2015, 2016, 2017, 2018, 2019, 2020, 2021, 2022]"
   ]
  },
  {
   "cell_type": "code",
   "execution_count": null,
   "id": "2d948eaf-4ee4-478d-859a-2da4b65d78a0",
   "metadata": {},
   "outputs": [],
   "source": [
    "ff_dfs = [] # create empty list so we can eventually concat all dfs\n",
    "\n",
    "for year in years: \n",
    "    df = pd.read_csv(f'./CSVs/four factors/league_four_factors_{year}.csv') # read in each csv and name appropriately\n",
    "    # df = df[(df.Team != 'Average')] #drop the \"average\" column.  has nulls.\n",
    "    df['year'] = f'{year}' # create a column to label the data by {year}\n",
    "    ff_dfs.append(df) # add df to list\n",
    "    \n",
    "ff_df = pd.concat(ff_dfs) # concat all dfs in the list\n",
    "\n",
    "percent_cols = ['OFFENSE: eFG%','OFFENSE: TOV%', 'OFFENSE: ORB%', 'DEFENSE: eFG%', 'DEFENSE: TOV%', 'DEFENSE: ORB%']\n",
    "\n",
    "# Convert percentage columns to floats\n",
    "for col in percent_cols:\n",
    "    ff_df[col] = ff_df[col].str.rstrip('%').astype('float') / 100.0\n",
    "    \n",
    "ff_df.head()"
   ]
  },
  {
   "cell_type": "code",
   "execution_count": null,
   "id": "c8069958-6afc-49b3-8e2c-98a9127ba184",
   "metadata": {},
   "outputs": [],
   "source": [
    "play_context_halfcourt = []\n",
    "for year in years: \n",
    "    df = pd.read_csv(f'./CSVs/play context/league_offense_halfcourt_and_putbacks_{year}.csv') # read in each csv and name appropriately\n",
    "    df['year'] = f'{year}' # create a column to label the data by {year}\n",
    "    play_context_halfcourt.append(df) # add df to list\n",
    "    \n",
    "playcontext_halfcourt_df = pd.concat(play_context_halfcourt) # concat all dfs in the list\n",
    "\n",
    "# Convert percentage columns to floats\n",
    "percent_cols = ['HALFCOURT: OREB%', 'HALFCOURT: % of Plays']\n",
    "for col in percent_cols:\n",
    "    playcontext_halfcourt_df[col] = playcontext_halfcourt_df[col].str.rstrip('%').astype('float') / 100.0\n",
    "    \n",
    "playcontext_halfcourt_df.head()"
   ]
  },
  {
   "cell_type": "code",
   "execution_count": null,
   "id": "437cae46-cdfd-4af1-a45f-b8943722231e",
   "metadata": {},
   "outputs": [],
   "source": [
    "play_context_transition = []\n",
    "for year in years: \n",
    "    df = pd.read_csv(f'./CSVs/play context/league_offense_transition_{year}.csv') # read in each csv and name appropriately\n",
    "    df['year'] = f'{year}' # create a column to label the data by {year}\n",
    "    play_context_transition.append(df) # add df to list\n",
    "    \n",
    "playcontext__transition_df = pd.concat(play_context_transition) # concat all dfs in the list\n",
    "\n",
    "# Convert percentage columns to floats\n",
    "percent_cols = ['ALL TRANSITION: Freq', 'OFF STEALS: Freq', 'OFF LIVE REBOUNDS: Freq']\n",
    "for col in percent_cols:\n",
    "    playcontext__transition_df[col] = playcontext__transition_df[col].str.rstrip('%').astype('float') / 100.0\n",
    "    \n",
    "playcontext__transition_df.head()   "
   ]
  },
  {
   "cell_type": "code",
   "execution_count": null,
   "id": "bdd52be6-acfb-42d1-9c2e-01ee768cbe5f",
   "metadata": {},
   "outputs": [],
   "source": [
    "shooting_accuracy = []\n",
    "for year in years: \n",
    "    df = pd.read_csv(f'./CSVs/shooting/league_offense_shooting_accuracy_{year}.csv') # read in each csv and name appropriately\n",
    "    df['year'] = f'{year}' # create a column to label the data by {year}\n",
    "    shooting_accuracy.append(df) # add df to list\n",
    "    \n",
    "shooting_accuracy_df = pd.concat(shooting_accuracy) # concat all dfs in the list\n",
    "\n",
    "# Convert percentage columns to floats\n",
    "percent_cols = ['eFG%', 'Loc eFG%', 'Rim', 'Short Mid', 'Long Mid', 'All Mid', 'Corner Three', 'Non Corner', 'All Three']\n",
    "for col in percent_cols:\n",
    "    shooting_accuracy_df[col] = shooting_accuracy_df[col].str.rstrip('%').astype('float') / 100.0\n",
    "    \n",
    "shooting_accuracy_df.head()"
   ]
  },
  {
   "cell_type": "code",
   "execution_count": null,
   "id": "84cb3290-83b3-46c0-9199-ee805bc00142",
   "metadata": {},
   "outputs": [],
   "source": [
    "shooting_frequency = []\n",
    "for year in years: \n",
    "    df = pd.read_csv(f'./CSVs/shooting/league_offense_shooting_frequency_{year}.csv') # read in each csv and name appropriately\n",
    "    df['year'] = f'{year}' # create a column to label the data by {year}\n",
    "    shooting_frequency.append(df) # add df to list\n",
    "    \n",
    "shooting_frequency_df = pd.concat(shooting_frequency) # concat all dfs in the list\n",
    "shooting_frequency_df.head()\n",
    "\n",
    "# Convert percentage columns to floats\n",
    "percent_cols = ['eFG%', 'Loc eFG%', 'Rim', 'Short Mid', 'Long Mid', 'All Mid', 'Corner Three', 'Non Corner', 'All Three']\n",
    "for col in percent_cols:\n",
    "    shooting_frequency_df[col] = shooting_frequency_df[col].str.rstrip('%').astype('float') / 100.0\n",
    "    \n",
    "shooting_frequency_df.head()"
   ]
  },
  {
   "cell_type": "code",
   "execution_count": null,
   "id": "9689010f-d999-4f72-9ced-8f5ef28973f4",
   "metadata": {},
   "outputs": [],
   "source": [
    "shooting_accuracy_df.groupby('year').mean()"
   ]
  },
  {
   "cell_type": "code",
   "execution_count": null,
   "id": "e5f1ebdf-eac6-4fb8-a311-858f3e206b9a",
   "metadata": {},
   "outputs": [],
   "source": [
    "plt.figure(figsize = (7,5))\n",
    "shooting_accuracy_df.groupby('year').mean()['Rim'].plot()\n",
    "plt.title('Accuracy at the Rim')\n",
    "plt.ylabel('Shooting Percentage')\n",
    "plt.xlabel('Year');"
   ]
  },
  {
   "cell_type": "code",
   "execution_count": null,
   "id": "e37ef6d9-b921-4d91-bc45-ae4861a4dbda",
   "metadata": {},
   "outputs": [],
   "source": [
    "plt.figure(figsize = (7,5))\n",
    "shooting_accuracy_df.groupby('year').mean()['All Mid'].plot()\n",
    "plt.title('Accuracy from Mid-Range')\n",
    "plt.ylabel('Shooting Percentage')\n",
    "plt.xlabel('Year');"
   ]
  },
  {
   "cell_type": "code",
   "execution_count": null,
   "id": "bf4a9349-cfc6-472d-9b17-bac5dcfe8b52",
   "metadata": {},
   "outputs": [],
   "source": [
    "plt.figure(figsize = (7,5))\n",
    "shooting_accuracy_df.groupby('year').mean()['All Three'].plot()\n",
    "plt.title('Accuracy on Three Pointers')\n",
    "plt.ylabel('Shooting Percentage')\n",
    "plt.xlabel('Year');"
   ]
  },
  {
   "cell_type": "code",
   "execution_count": null,
   "id": "ea4e9301-ce30-4810-b4fa-04d8e51f4c93",
   "metadata": {},
   "outputs": [],
   "source": [
    "shooting_accuracy_df['All Three'].hist()\n",
    "# curious who these teams were who shot above 40% from Three."
   ]
  },
  {
   "cell_type": "code",
   "execution_count": null,
   "id": "798077d2-be1c-48b0-ae8a-ff3834a1f99a",
   "metadata": {},
   "outputs": [],
   "source": [
    "# All Sniper Teams.  All teams who have shot over 40% as a team.\n",
    "top_shooting_teams = shooting_accuracy_df[shooting_accuracy_df['All Three'] > .4]\n",
    "top_shooting_teams = top_shooting_teams[['Team', 'All Three', 'year']]\n",
    "top_shooting_teams.sort_values(by = 'All Three', ascending = False)"
   ]
  },
  {
   "cell_type": "code",
   "execution_count": null,
   "id": "a4f7e5d1-ce1d-4502-8462-8dc01a249c33",
   "metadata": {},
   "outputs": [],
   "source": [
    "# Teams who shot the threes at the highest frequency.\n",
    "\n",
    "top_shooting_teams = shooting_frequency_df[shooting_frequency_df['All Three'] >.4]\n",
    "top_shooting_teams = top_shooting_teams[['Team', 'All Three', 'year']]\n",
    "top_shooting_teams.sort_values(by = 'All Three', ascending = False).head(10)"
   ]
  },
  {
   "cell_type": "code",
   "execution_count": null,
   "id": "3aa85940-4675-4500-b1ae-647b04d6125f",
   "metadata": {},
   "outputs": [],
   "source": [
    "# source: https://python.plainenglish.io/ridge-plots-with-pythons-seaborn-4de5725881af\n",
    "\n",
    "sns.set_theme(style=\"white\", rc={\"axes.facecolor\": (0, 0, 0, 0)})\n",
    "g = sns.FacetGrid(shooting_frequency_df, row= 'year', aspect=9, height=1)\n",
    "g.map_dataframe(sns.kdeplot, x= 'All Three', fill=True, alpha=1)\n",
    "g.map_dataframe(sns.kdeplot, x='All Three', color='black')\n",
    "g.fig.subplots_adjust(hspace=-.5)\n",
    "g.set_titles(\"\")\n",
    "g.despine(left=True);\n",
    "plt.savefig('./Visuals/Ridge Plot NBA Frequency.jpg', bbox_inches=\"tight\", dpi=100)\n",
    "\n",
    "# interesting to look at .4 and beyond on the x axis.  As the years go on, teams are shooting more and more frequently from three."
   ]
  },
  {
   "cell_type": "code",
   "execution_count": null,
   "id": "5e7aa3dc-48fe-4285-bdf4-b4862e442880",
   "metadata": {},
   "outputs": [],
   "source": []
  }
 ],
 "metadata": {
  "kernelspec": {
   "display_name": "Python 3 (ipykernel)",
   "language": "python",
   "name": "python3"
  },
  "language_info": {
   "codemirror_mode": {
    "name": "ipython",
    "version": 3
   },
   "file_extension": ".py",
   "mimetype": "text/x-python",
   "name": "python",
   "nbconvert_exporter": "python",
   "pygments_lexer": "ipython3",
   "version": "3.9.7"
  }
 },
 "nbformat": 4,
 "nbformat_minor": 5
}
